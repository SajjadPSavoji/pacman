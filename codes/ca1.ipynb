{
 "cells": [
  {
   "cell_type": "markdown",
   "metadata": {},
   "source": [
    "<center> CA1: Pacman</center>\n",
    "Name : sajjad pakdaman savoji <br>\n",
    "SID  : 810195517"
   ]
  },
  {
   "cell_type": "markdown",
   "metadata": {},
   "source": [
    "# Modeling\n",
    "1. State : any unique configuration of agent's position and fruits status\n",
    "exp: p position (2 , 1) , q position (3 , 4) , fruit_position = ($x_i$ ,$y_i$)\n",
    "\n",
    "2. Goal State : goal is reached due to complete removal of fruits\n",
    "\n",
    "3. Actions : Each possible move for both agents(P and Q) is considered a valid move thus thus the branchig factor of graph would be at most 8 (4 brach each agent corispond to UP,DOWN , LEFT , RIGHT)\n",
    "\n",
    "4. Neighborhood : Two node are neighbor if and only if transportation is possible by only ONE action\n",
    "\n",
    "5. Action Cost : The cost of each peer action is considered 1\n",
    "    "
   ]
  },
  {
   "cell_type": "code",
   "execution_count": 1,
   "metadata": {},
   "outputs": [],
   "source": [
    "from ca1 import *"
   ]
  },
  {
   "cell_type": "markdown",
   "metadata": {},
   "source": [
    "# BFS\n",
    "Complition and Optimality of BFS algorithem stands on the basis that by expanding(visiting) shallowest node , min path cost is achieved\n",
    "\n",
    "visited nodes are held in a python dictionary named \"met\" with dramatically d"
   ]
  },
  {
   "cell_type": "code",
   "execution_count": null,
   "metadata": {
    "scrolled": true
   },
   "outputs": [],
   "source": [
    "def BFS(init_state):\n",
    "    met = {}\n",
    "    Q = []\n",
    "    Q.append(init_state)\n",
    "    met.update({init_state:1})\n",
    "    while len(Q):\n",
    "        frontier = Q.pop(0)\n",
    "        if frontier.is_goal() :\n",
    "            return frontier , len(met)\n",
    "        childs = frontier.expand()\n",
    "        for child in childs : \n",
    "            if child not in met:\n",
    "                Q.append(child)\n",
    "                met.update({child:1})\n",
    "    return None , len(met)"
   ]
  },
  {
   "cell_type": "markdown",
   "metadata": {},
   "source": [
    "# IDS\n",
    "1. There are two common ways to traverse a graph, BFS and DFS. Considering a Tree (or Graph) of huge height and width, both BFS and DFS are not very efficient due to following reasons.\n",
    "<br>\n",
    "\n",
    "2. IDDFS combines depth-first search’s space-efficiency and breadth-first search’s fast search (for nodes closer to root).\n",
    "<br>\n",
    "\n",
    "3. IDDFS calls DFS for different depths starting from an initial value. In every call, DFS is restricted from going beyond given depth. So basically we do DFS in a BFS fashion\n",
    "<br>\n",
    "\n",
    "4. An important thing to note is, we visit top level nodes multiple times. The last (or max depth) level is visited once, second last level is visited twice, and so on. It may seem expensive, but it turns out to be not so costly, since in a tree most of the nodes are in the bottom level. So it does not matter much if the upper levels are visited multiple times. "
   ]
  },
  {
   "cell_type": "markdown",
   "metadata": {},
   "source": [
    "## DFS\n",
    "code for Depth First Search"
   ]
  },
  {
   "cell_type": "code",
   "execution_count": null,
   "metadata": {},
   "outputs": [],
   "source": [
    "def DFS(Q , met , depth):\n",
    "    deep = []\n",
    "    while len(Q):\n",
    "        frontier = Q.pop(-1)\n",
    "        if frontier.is_goal() : \n",
    "            return frontier , met , deep\n",
    "        if frontier.cost == depth :\n",
    "            deep.append(frontier)\n",
    "            continue\n",
    "        childs = frontier.expand()\n",
    "        for child in childs : \n",
    "            if child not in met:\n",
    "                Q.append(child)\n",
    "                met.update({child:1})\n",
    "    return None , met , deep"
   ]
  },
  {
   "cell_type": "markdown",
   "metadata": {},
   "source": [
    "## IDDFS\n",
    "code for Iterative Deepening Search"
   ]
  },
  {
   "cell_type": "code",
   "execution_count": null,
   "metadata": {},
   "outputs": [],
   "source": [
    "def IDS(init_state):\n",
    "    depth = 0\n",
    "    met = {init_state :1}\n",
    "    deep = [init_state]\n",
    "    while(True):\n",
    "        node , met , _ = DFS(deep , met , depth)\n",
    "        if node is not None : \n",
    "            return node , len(met)\n",
    "        depth += 1"
   ]
  },
  {
   "cell_type": "markdown",
   "metadata": {},
   "source": [
    "# A* Search\n",
    "1. A* Search algorithm is one of the best and popular technique used in path-finding and graph traversals.\n",
    "2. What A* Search Algorithm does is that at each step it picks the node according to a value-‘f’ which is a parameter equal to the sum of two other parameters – ‘g’ and ‘h’. At each step it picks the node/cell having the lowest ‘f’, and process that node/cell.\n",
    "$$\n",
    "f(n) = g(n) + h(n)\n",
    "$$"
   ]
  },
  {
   "cell_type": "markdown",
   "metadata": {},
   "source": [
    "## Heuristic Function\n",
    "Some partially consistent huristic functions was considered for this problem and effectiveness of each function is illustrated in following stats. The list include:\n",
    "1. Longest distance :\n",
    "    In this huristic function our estimation equals the further fruit eatable for each peer agent.<br><br>\n",
    "    Admisibility : the aget should at least eat that fruit\n",
    "<br>\n",
    "<br>\n",
    "2. Number of Fruits : \n",
    "    In this huristic function our estimation equals the number of fruits left in the map :))<br><br>\n",
    "    Admisibility : all the fruits should be eaten so at least should jump to the fruits position\n",
    "<br>\n",
    "<br>\n",
    "3. Mean of Manhatan Dis:\n",
    "    In this huristic function our estimation equals the mean of Distances of all fruits to each peer agent<br><br>\n",
    "    Admisibility : mean of distances are less than longest distance which is admissible."
   ]
  },
  {
   "cell_type": "markdown",
   "metadata": {},
   "source": [
    "code for A* search"
   ]
  },
  {
   "cell_type": "code",
   "execution_count": null,
   "metadata": {},
   "outputs": [],
   "source": [
    "met = {}\n",
    "    pending = {}\n",
    "    Q = []\n",
    "    # heapq.heappush(Q , init_state)\n",
    "    Q.append(init_state)\n",
    "    pending.update({init_state:1})\n",
    "    while len(Q):\n",
    "        # frontier = heapq.heappop(Q)\n",
    "        frontier = Q.pop(Q.index(min(Q)))\n",
    "        pending.pop(frontier)\n",
    "        met.update({frontier:1})\n",
    "        if frontier.is_goal() :\n",
    "            return frontier , len(met)\n",
    "        childs = frontier.expand()\n",
    "        for child in childs : \n",
    "            if child not in met:\n",
    "                if child not in pending:\n",
    "                    Q.append(child)\n",
    "                    pending.update({child : 1})\n",
    "                else :\n",
    "                    if child < Q[Q.index(child)]:\n",
    "                        Q[Q.index(child)] = child\n",
    "    return None , len(met)"
   ]
  },
  {
   "cell_type": "markdown",
   "metadata": {},
   "source": [
    "<h2>Comparison Table</h2>\n",
    "<html>\n",
    "<head>\n",
    "<style>\n",
    "table {\n",
    "  font-family: arial, sans-serif;\n",
    "  border-collapse: collapse;\n",
    "  width: 100%;\n",
    "}\n",
    "\n",
    "td, th {\n",
    "  border: 1px solid #dddddd;\n",
    "  text-align: left;\n",
    "  padding: 8px;\n",
    "}\n",
    "\n",
    "tr:nth-child(even) {\n",
    "  background-color: #dddddd;\n",
    "}\n",
    "</style>\n",
    "</head>\n",
    "<body>\n",
    "\n",
    "<center><h3>test1</h3></center>\n",
    "<table>\n",
    "  <tr>\n",
    "    <th>.......</th>\n",
    "    <th>goal cost</th>\n",
    "    <th>states visited</th>\n",
    "    <th>states visiited uniquely</th>\n",
    "    <th>time</th>\n",
    "  </tr>\n",
    "  <tr>\n",
    "    <th>BFS</th>\n",
    "    <th>33</th>\n",
    "    <th>33</th>\n",
    "    <th>155023</th>\n",
    "    <th>102.88</th>\n",
    "  </tr>\n",
    "  <tr>\n",
    "    <th>IDS</th>\n",
    "    <th>goal cost</th>\n",
    "    <th>states visited</th>\n",
    "    <th>states visiited uniquely</th>\n",
    "    <th>time</th>\n",
    "  </tr>\n",
    "  <tr>\n",
    "    <th>A* search</th>\n",
    "    <th>goal cost</th>\n",
    "    <th>states visited</th>\n",
    "    <th>states visiited uniquely</th>\n",
    "    <th>time</th>\n",
    "  </tr>\n",
    "</table>\n",
    "\n",
    "<center><h3>test2</h3></center>\n",
    "<table>\n",
    "  <tr>\n",
    "    <th>.......</th>\n",
    "    <th>goal optimal cost</th>\n",
    "    <th>goal cost</th>\n",
    "    <th>states visiited</th>\n",
    "    <th>time</th>\n",
    "  </tr>\n",
    "  <tr>\n",
    "    <th>BFS</th>\n",
    "    <th>17</th>\n",
    "    <th>17</th>\n",
    "    <th>3808</th>\n",
    "    <th>2.11</th>\n",
    "  </tr>\n",
    "  <tr>\n",
    "    <th>IDS</th>\n",
    "    <th>17</th>\n",
    "    <th>22</th>\n",
    "    <th>1296</th>\n",
    "    <th>4.97</th>\n",
    "  </tr>\n",
    "  <tr>\n",
    "    <th>A* search</th>\n",
    "    <th>17</th>\n",
    "    <th>17</th>\n",
    "    <th>3948</th>\n",
    "    <th>27.19</th>\n",
    "  </tr>\n",
    "</table>\n",
    "\n",
    "<center><h3>test3</h3></center>\n",
    "<table>\n",
    "  <tr>\n",
    "    <th>.......</th>\n",
    "    <th>goal cost</th>\n",
    "    <th>states visited</th>\n",
    "    <th>states visiited uniquely</th>\n",
    "    <th>time</th>\n",
    "  </tr>\n",
    "  <tr>\n",
    "    <th>BFS</th>\n",
    "    <th>20</th>\n",
    "    <th>20</th>\n",
    "    <th>3046</th>\n",
    "    <th>1.63</th>\n",
    "  </tr>\n",
    "  <tr>\n",
    "    <th>IDS</th>\n",
    "    <th>20</th>\n",
    "    <th>34</th>\n",
    "    <th>387</th>\n",
    "    <th>11.39</th>\n",
    "  </tr>\n",
    "  <tr>\n",
    "    <th>A* search</th>\n",
    "    <th>20</th>\n",
    "    <th>20</th>\n",
    "    <th>2912</th>\n",
    "    <th>10.25</th>\n",
    "  </tr>\n",
    "</table>\n",
    "\n",
    "<center><h3>test4</h3></center>\n",
    "<table>\n",
    "  <tr>\n",
    "    <th>.......</th>\n",
    "    <th>goal cost</th>\n",
    "    <th>states visited</th>\n",
    "    <th>states visiited uniquely</th>\n",
    "    <th>time</th>\n",
    "  </tr>\n",
    "  <tr>\n",
    "    <th>BFS</th>\n",
    "    <th>17</th>\n",
    "    <th>17</th>\n",
    "    <th>13533</th>\n",
    "    <th>6.97</th>\n",
    "  </tr>\n",
    "  <tr>\n",
    "    <th>IDS</th>\n",
    "    <th>17</th>\n",
    "    <th>18</th>\n",
    "    <th>518</th>\n",
    "    <th>4.86</th>\n",
    "  </tr>\n",
    "  <tr>\n",
    "    <th>A* search</th>\n",
    "    <th>17</th>\n",
    "    <th>states visited</th>\n",
    "    <th>states visiited uniquely</th>\n",
    "    <th>time</th>\n",
    "  </tr>\n",
    "</table>\n",
    "\n",
    "<center><h3>test5</h3></center>\n",
    "<table>\n",
    "  <tr>\n",
    "    <th>.......</th>\n",
    "    <th>goal cost</th>\n",
    "    <th>states visited</th>\n",
    "    <th>states visiited uniquely</th>\n",
    "    <th>time</th>\n",
    "  </tr>\n",
    "  <tr>\n",
    "    <th>BFS</th>\n",
    "    <th>13</th>\n",
    "    <th>13</th>\n",
    "    <th>524</th>\n",
    "    <th>0.18</th>\n",
    "  </tr>\n",
    "  <tr>\n",
    "    <th>IDS</th>\n",
    "    <th>13</th>\n",
    "    <th>26</th>\n",
    "    <th>140</th>\n",
    "    <th>1.27</th>\n",
    "  </tr>\n",
    "  <tr>\n",
    "    <th>A* search</th>\n",
    "    <th>13</th>\n",
    "    <th>13</th>\n",
    "    <th>477</th>\n",
    "    <th>0.74</th>\n",
    "  </tr>\n",
    "</table>\n",
    "\n",
    "\n",
    "</body>\n",
    "</html>\n"
   ]
  },
  {
   "cell_type": "markdown",
   "metadata": {},
   "source": [
    "# Time Plots "
   ]
  },
  {
   "cell_type": "code",
   "execution_count": 2,
   "metadata": {},
   "outputs": [],
   "source": [
    "import matplotlib.pyplot as plt\n",
    "cost = [13 , 17 , 17 , 20 , 33]\n",
    "BFS_time = [0.18 , 2.11 , 6.97 , 1.63  ,102.88]\n",
    "ids_time = [1.27 , 4.97 , 4.86, 11.39 , 0]\n",
    "as_time = [0.74 , 27.19 , 0 , 10.25 , 0]"
   ]
  },
  {
   "cell_type": "code",
   "execution_count": 9,
   "metadata": {},
   "outputs": [
    {
     "data": {
      "image/png": "[encoded data removed]",
      "text/plain": [
       "<Figure size 432x288 with 1 Axes>"
      ]
     },
     "metadata": {
      "needs_background": "light"
     },
     "output_type": "display_data"
    }
   ],
   "source": [
    "plt.plot(cost , BFS_time , label = 'BFS' , color = 'red')\n",
    "plt.plot(cost , ids_time , label = 'IDS' , color = 'green')\n",
    "plt.plot(cost , as_time  , label = 'A*' , color = 'blue')\n",
    "plt.legend()\n",
    "plt.title('comparision of algorithems')\n",
    "plt.xlabel('cost')\n",
    "plt.ylabel('time(s)')\n",
    "plt.show()\n"
   ]
  }
 ],
 "metadata": {
  "kernelspec": {
   "display_name": "Python 3",
   "language": "python",
   "name": "python3"
  },
  "language_info": {
   "codemirror_mode": {
    "name": "ipython",
    "version": 3
   },
   "file_extension": ".py",
   "mimetype": "text/x-python",
   "name": "python",
   "nbconvert_exporter": "python",
   "pygments_lexer": "ipython3",
   "version": "3.6.8"
  }
 },
 "nbformat": 4,
 "nbformat_minor": 2
}
